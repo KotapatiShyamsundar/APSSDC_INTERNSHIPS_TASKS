{
 "cells": [
  {
   "cell_type": "markdown",
   "metadata": {},
   "source": [
    "### Today Tasks :\n",
    "##### DAY-6 12-06-21\n",
    "- Write a Python script to print a dictionary where the keys are numbers between 1 and 15 (both included) and the values are square of keys\n",
    "- Write a Python program to map two lists into a dictionary\n",
    "- Write a Python program to sort a list alphabetically in a dictionary\n",
    "     - input : {'n1': [2, 3, 1], 'n2': [5, 1, 2], 'n3': [3, 2, 4]}\n",
    "     - output : {'n1': [1, 2, 3], 'n2': [1, 2, 5], 'n3': [2, 3, 4]}"
   ]
  },
  {
   "cell_type": "markdown",
   "metadata": {},
   "source": [
    "### 1.Write a Python script to print a dictionary where the keys are numbers between 1 and 15 (both included) and the values are square of keys"
   ]
  },
  {
   "cell_type": "code",
   "execution_count": 1,
   "metadata": {},
   "outputs": [
    {
     "name": "stdout",
     "output_type": "stream",
     "text": [
      "{1: 1, 2: 4, 3: 9, 4: 16, 5: 25, 6: 36, 7: 49, 8: 64, 9: 81, 10: 100, 11: 121, 12: 144, 13: 169, 14: 196, 15: 225}\n"
     ]
    }
   ],
   "source": [
    "d=dict()\n",
    "for x in range(1,16):\n",
    "    d[x]=x**2\n",
    "print(d) "
   ]
  },
  {
   "cell_type": "markdown",
   "metadata": {},
   "source": [
    "### 2.Write a Python program to map two lists into a dictionary"
   ]
  },
  {
   "cell_type": "code",
   "execution_count": 2,
   "metadata": {},
   "outputs": [
    {
     "name": "stdout",
     "output_type": "stream",
     "text": [
      "Enter no.of  character: 5\n",
      "1\n",
      "2\n",
      "3\n",
      "4\n",
      "5\n",
      "keys  ['1', '2', '3', '4', '5']\n",
      "Enter no.of  character: 5\n",
      "10\n",
      "20\n",
      "30\n",
      "40\n",
      "50\n",
      "values =  ['10', '20', '30', '40', '50']\n",
      "After mapping Dict = \n",
      "{'1': '10', '2': '20', '3': '30', '4': '40', '5': '50'}\n"
     ]
    }
   ],
   "source": [
    "l1_keys = []\n",
    "a = int(input(\"Enter no.of  character: \"))\n",
    "for i in range(0,a):\n",
    "    elements = input()\n",
    "    l1_keys.append(elements)\n",
    "print(\"keys \", l1_keys)\n",
    "l2_values = []\n",
    "b = int(input(\"Enter no.of  character: \"))\n",
    "for i in range(0,b):\n",
    "    elements = input()\n",
    "    l2_values.append(elements)\n",
    "print(\"values = \",l2_values)\n",
    "\n",
    "d = dict(zip(l1_keys,l2_values))\n",
    "print(\"After mapping Dict = \")\n",
    "print(d)"
   ]
  },
  {
   "cell_type": "code",
   "execution_count": 3,
   "metadata": {},
   "outputs": [
    {
     "name": "stdout",
     "output_type": "stream",
     "text": [
      "Enter no.of elements for list: 5\n",
      "1\n",
      "2\n",
      "3\n",
      "4\n",
      "5\n",
      "The entered list1 is:  ['1', '2', '3', '4', '5']\n",
      "100\n",
      "200\n",
      "300\n",
      "400\n",
      "500\n",
      "The entered list2 is:  ['100', '200', '300', '400', '500']\n",
      "{'1': '100', '2': '200', '3': '300', '4': '400', '5': '500'}\n"
     ]
    }
   ],
   "source": [
    "l1 = []\n",
    "l2 = []\n",
    "n = int(input(\"Enter no.of elements for list: \"))\n",
    "for i in range(0,n):\n",
    "    a = str(input())\n",
    "    l1.append(a)\n",
    "print(\"The entered list1 is: \",l1)\n",
    "for j in range(0,n):\n",
    "    b = str(input())\n",
    "    l2.append(b)\n",
    "print(\"The entered list2 is: \",l2)\n",
    "print({l1[i]:l2[i] for i in range(n)})"
   ]
  },
  {
   "cell_type": "markdown",
   "metadata": {},
   "source": [
    "### Write a Python program to sort a list alphabetically in a dictionary\n",
    "- input : {'n1': [2, 3, 1], 'n2': [5, 1, 2], 'n3': [3, 2, 4]}\n",
    "- output : {'n1': [1, 2, 3], 'n2': [1, 2, 5], 'n3': [2, 3, 4]}"
   ]
  },
  {
   "cell_type": "code",
   "execution_count": 13,
   "metadata": {},
   "outputs": [
    {
     "name": "stdout",
     "output_type": "stream",
     "text": [
      "{'n1': [1, 2, 3], 'n2': [1, 2, 5], 'n3': [2, 3, 4]}\n"
     ]
    }
   ],
   "source": [
    "dict= {'n1': [2, 3, 1], 'n2': [5, 1, 2], 'n3': [3, 2, 4]}\n",
    "print({k:sorted(v) for k,v in dict.items()})"
   ]
  },
  {
   "cell_type": "code",
   "execution_count": null,
   "metadata": {},
   "outputs": [],
   "source": []
  }
 ],
 "metadata": {
  "kernelspec": {
   "display_name": "Python 3",
   "language": "python",
   "name": "python3"
  },
  "language_info": {
   "codemirror_mode": {
    "name": "ipython",
    "version": 3
   },
   "file_extension": ".py",
   "mimetype": "text/x-python",
   "name": "python",
   "nbconvert_exporter": "python",
   "pygments_lexer": "ipython3",
   "version": "3.7.3"
  }
 },
 "nbformat": 4,
 "nbformat_minor": 2
}
