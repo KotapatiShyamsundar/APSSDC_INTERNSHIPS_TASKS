{
 "cells": [
  {
   "cell_type": "markdown",
   "metadata": {},
   "source": [
    "### Task:\n",
    "- Write a Python program to sum all the items in a list.\n",
    "- Write a Python program to convert a list of characters into a string\n",
    "- program to put even and odd elements in a list into two different lists\n",
    "- Write a Python program to remove duplicates from a list\n",
    "- Write a Python program to check a list is empty or not.\n",
    "- Write a Python program to print a specified list after removing the 0th, 4th and 5th elements.\n",
    "- Write a Python that takes two lists and returns True if they have at least one common member."
   ]
  },
  {
   "cell_type": "markdown",
   "metadata": {},
   "source": [
    "### Write a Python program to sum all the items in a list."
   ]
  },
  {
   "cell_type": "code",
   "execution_count": 2,
   "metadata": {},
   "outputs": [
    {
     "name": "stdout",
     "output_type": "stream",
     "text": [
      "Enter no.of Elements: 5\n",
      "1\n",
      "2\n",
      "3\n",
      "4\n",
      "5\n",
      "[1, 2, 3, 4, 5]\n",
      "Sum of all the items in a list:  15\n"
     ]
    }
   ],
   "source": [
    "# Write a Python program to sum all the items in a list.\n",
    "\n",
    "l = []\n",
    "n = int(input(\"Enter no.of Elements: \"))\n",
    "for i in range(0,n):\n",
    "    a = int(input())\n",
    "    l.append(a)\n",
    "print(l)\n",
    "sum = 0\n",
    "for j in range(0,len(l)):\n",
    "    sum = sum + l[j]\n",
    "print(\"Sum of all the items in a list: \",sum)"
   ]
  },
  {
   "cell_type": "markdown",
   "metadata": {},
   "source": [
    "### Write a Python program to convert a list of characters into a string"
   ]
  },
  {
   "cell_type": "code",
   "execution_count": 3,
   "metadata": {},
   "outputs": [
    {
     "name": "stdout",
     "output_type": "stream",
     "text": [
      "Enter no.of  character: 5\n",
      "1\n",
      "2\n",
      "3\n",
      "4\n",
      "5\n",
      "['1', '2', '3', '4', '5']\n"
     ]
    },
    {
     "data": {
      "text/plain": [
       "'1 2 3 4 5'"
      ]
     },
     "execution_count": 3,
     "metadata": {},
     "output_type": "execute_result"
    }
   ],
   "source": [
    "# Write a Python program to convert a list of characters into a string\n",
    "\n",
    "l = []\n",
    "n = int(input(\"Enter no.of  character: \"))\n",
    "for i in range(0,n):\n",
    "    elements = str(input())\n",
    "    l.append(elements)\n",
    "print(l)\n",
    "\" \".join(l)"
   ]
  },
  {
   "cell_type": "markdown",
   "metadata": {},
   "source": [
    "###  Program to put even and odd elements in a list into two different lists"
   ]
  },
  {
   "cell_type": "code",
   "execution_count": 4,
   "metadata": {},
   "outputs": [
    {
     "name": "stdout",
     "output_type": "stream",
     "text": [
      "Enter no.of elements: 10\n",
      "1\n",
      "2\n",
      "3\n",
      "4\n",
      "5\n",
      "6\n",
      "7\n",
      "8\n",
      "9\n",
      "10\n",
      "Even List [2, 4, 6, 8, 10]\n",
      "Odd list [1, 3, 5, 7, 9]\n"
     ]
    }
   ],
   "source": [
    "# Program to put even and odd elements in a list into two different lists\n",
    "\n",
    "l = []\n",
    "l1 = []\n",
    "l2 = []\n",
    "n = int(input(\"Enter no.of elements: \"))\n",
    "for i in range(int(n)):\n",
    "    elements = int(input())\n",
    "    l.append(elements)\n",
    "    \n",
    "for i in l:\n",
    "    if i % 2 == 0:\n",
    "        l1.append(i)\n",
    "    else:\n",
    "        l2.append(i)\n",
    "print(\"Even List\",l1)\n",
    "print(\"Odd list\",l2)"
   ]
  },
  {
   "cell_type": "markdown",
   "metadata": {},
   "source": [
    "### Write a Python program to remove duplicates from a list"
   ]
  },
  {
   "cell_type": "code",
   "execution_count": 5,
   "metadata": {},
   "outputs": [
    {
     "name": "stdout",
     "output_type": "stream",
     "text": [
      "Enter no.of Elements: 10\n",
      "1\n",
      "2\n",
      "2\n",
      "3\n",
      "4\n",
      "5\n",
      "5\n",
      "6\n",
      "7\n",
      "7\n",
      "List Before [1, 2, 2, 3, 4, 5, 5, 6, 7, 7]\n",
      "List after removing duplicates:  [1, 2, 3, 4, 5, 6, 7]\n"
     ]
    }
   ],
   "source": [
    "# Write a Python program to remove duplicates from a list\n",
    "\n",
    "l = []\n",
    "n = int(input(\"Enter no.of Elements: \"))\n",
    "for i in range(0,n):\n",
    "    a = int(input())\n",
    "    l.append(a)\n",
    "print(\"List Before\",l)\n",
    "l1 = []\n",
    "for j in l:\n",
    "    if j not in l1:\n",
    "        l1.append(j)\n",
    "\n",
    "print(\"List after removing duplicates: \",l1)"
   ]
  },
  {
   "cell_type": "markdown",
   "metadata": {},
   "source": [
    "### Write a Python program to check a list is empty or not."
   ]
  },
  {
   "cell_type": "code",
   "execution_count": 6,
   "metadata": {},
   "outputs": [
    {
     "name": "stdout",
     "output_type": "stream",
     "text": [
      "Enter no.of Elements: 0\n",
      "[]\n",
      "Empty\n"
     ]
    }
   ],
   "source": [
    "\n",
    "l = []\n",
    "n = int(input(\"Enter no.of Elements: \"))\n",
    "for i in range(0,n):\n",
    "    a = int(input())\n",
    "    l.append(a)\n",
    "print(l)\n",
    "if len(l)==0:\n",
    "    print(\"Empty\")\n",
    "else:\n",
    "    print(\"Not Empty\")"
   ]
  },
  {
   "cell_type": "code",
   "execution_count": 7,
   "metadata": {},
   "outputs": [
    {
     "name": "stdout",
     "output_type": "stream",
     "text": [
      "Enter no.of Elements: 5\n",
      "1\n",
      "2\n",
      "3\n",
      "4\n",
      "5\n",
      "[1, 2, 3, 4, 5]\n",
      "Not Empty\n"
     ]
    }
   ],
   "source": [
    "\n",
    "l = []\n",
    "n = int(input(\"Enter no.of Elements: \"))\n",
    "for i in range(0,n):\n",
    "    a = int(input())\n",
    "    l.append(a)\n",
    "print(l)\n",
    "if len(l)==0:\n",
    "    print(\"Empty\")\n",
    "else:\n",
    "    print(\"Not Empty\")"
   ]
  },
  {
   "cell_type": "markdown",
   "metadata": {},
   "source": [
    "### Write a Python program to print a specified list after removing the 0th, 4th and 5th elements."
   ]
  },
  {
   "cell_type": "code",
   "execution_count": 8,
   "metadata": {},
   "outputs": [
    {
     "name": "stdout",
     "output_type": "stream",
     "text": [
      "Enter no.of Elements: 10\n",
      "1\n",
      "2\n",
      "3\n",
      "4\n",
      "5\n",
      "6\n",
      "7\n",
      "8\n",
      "9\n",
      "10\n",
      "Before Removing elements:  [1, 2, 3, 4, 5, 6, 7, 8, 9, 10]\n",
      "After removing 0th,4th and 5th element:  [2, 3, 4, 5, 7, 9, 10]\n"
     ]
    }
   ],
   "source": [
    "# Write a Python program to print a specified list after removing the 0th, 4th and 5th elements.\n",
    "\n",
    "l = []\n",
    "n = int(input(\"Enter no.of Elements: \"))\n",
    "for i in range(0,n):\n",
    "    a = int(input())\n",
    "    l.append(a)\n",
    "print(\"Before Removing elements: \",l)\n",
    "del l[0],l[4],l[5]\n",
    "print(\"After removing 0th,4th and 5th element: \",l)"
   ]
  },
  {
   "cell_type": "markdown",
   "metadata": {},
   "source": [
    "### Write a Python program that takes two lists and returns True if they have at least one common member."
   ]
  },
  {
   "cell_type": "code",
   "execution_count": 2,
   "metadata": {},
   "outputs": [
    {
     "name": "stdout",
     "output_type": "stream",
     "text": [
      "Enter the number of elements: 5\n",
      "Enter a char/int : 1\n",
      "Enter a char/int : 2\n",
      "Enter a char/int : 3\n",
      "Enter a char/int : 4\n",
      "Enter a char/int : 5\n",
      "The first list \n",
      "['1', '2', '3', '4', '5']\n",
      "Enter the number of elements: 5\n",
      "Enter a char/int : 4\n",
      "Enter a char/int : 9\n",
      "Enter a char/int : 8\n",
      "Enter a char/int : 7\n",
      "Enter a char/int : 10\n",
      "The second list \n",
      "['4', '9', '8', '7', '10']\n",
      "The above lists have at least one common member: True\n"
     ]
    }
   ],
   "source": [
    "a= int(input(\"Enter the number of elements: \"))\n",
    "x=[]\n",
    "y=[]\n",
    "for i in range(a):\n",
    "    c=input(\"Enter a char/int : \")\n",
    "    x.append(c)\n",
    "print(\"The first list \")\n",
    "print(x)\n",
    "b= int(input(\"Enter the number of elements: \"))\n",
    "for i in range(b):\n",
    "    d=input(\"Enter a char/int : \")\n",
    "    y.append(d)\n",
    "print(\"The second list \")\n",
    "print(y)\n",
    "def common(x, y):\n",
    "    flag = False\n",
    "    for i in x:\n",
    "        if (i in y):\n",
    "            flag = True\n",
    "        else:\n",
    "            pass\n",
    "    return flag\n",
    "result = common(x, y)\n",
    "print('The above lists have at least one common member:',result)"
   ]
  },
  {
   "cell_type": "code",
   "execution_count": 3,
   "metadata": {},
   "outputs": [
    {
     "name": "stdout",
     "output_type": "stream",
     "text": [
      "Enter the number of elements: 5\n",
      "Enter a char/int : s\n",
      "Enter a char/int : h\n",
      "Enter a char/int : y\n",
      "Enter a char/int : a\n",
      "Enter a char/int : m\n",
      "The first list \n",
      "['s', 'h', 'y', 'a', 'm']\n",
      "Enter the number of elements: 6\n",
      "Enter a char/int : s\n",
      "Enter a char/int : u\n",
      "Enter a char/int : n\n",
      "Enter a char/int : d\n",
      "Enter a char/int : a\n",
      "Enter a char/int : r\n",
      "The second list \n",
      "['s', 'u', 'n', 'd', 'a', 'r']\n",
      "The above lists have at least one common member: True\n"
     ]
    }
   ],
   "source": [
    "a= int(input(\"Enter the number of elements: \"))\n",
    "x=[]\n",
    "y=[]\n",
    "for i in range(a):\n",
    "    c=input(\"Enter a char/int : \")\n",
    "    x.append(c)\n",
    "print(\"The first list \")\n",
    "print(x)\n",
    "b= int(input(\"Enter the number of elements: \"))\n",
    "for i in range(b):\n",
    "    d=input(\"Enter a char/int : \")\n",
    "    y.append(d)\n",
    "print(\"The second list \")\n",
    "print(y)\n",
    "def common(x, y):\n",
    "    flag = False\n",
    "    for i in x:\n",
    "        if (i in y):\n",
    "            flag = True\n",
    "        else:\n",
    "            pass\n",
    "    return flag\n",
    "result = common(x, y)\n",
    "print('The above lists have at least one common member:',result)"
   ]
  },
  {
   "cell_type": "code",
   "execution_count": 4,
   "metadata": {},
   "outputs": [
    {
     "name": "stdout",
     "output_type": "stream",
     "text": [
      "Enter the number of elements: 5\n",
      "Enter a char/int : 1\n",
      "Enter a char/int : 2\n",
      "Enter a char/int : 3\n",
      "Enter a char/int : 4\n",
      "Enter a char/int : 5\n",
      "The first list \n",
      "['1', '2', '3', '4', '5']\n",
      "Enter the number of elements: 5\n",
      "Enter a char/int : 6\n",
      "Enter a char/int : 7\n",
      "Enter a char/int : 8\n",
      "Enter a char/int : 9\n",
      "Enter a char/int : 0\n",
      "The second list \n",
      "['6', '7', '8', '9', '0']\n",
      "The above lists have at least one common member: False\n"
     ]
    }
   ],
   "source": [
    "a= int(input(\"Enter the number of elements: \"))\n",
    "x=[]\n",
    "y=[]\n",
    "for i in range(a):\n",
    "    c=input(\"Enter a char/int : \")\n",
    "    x.append(c)\n",
    "print(\"The first list \")\n",
    "print(x)\n",
    "b= int(input(\"Enter the number of elements: \"))\n",
    "for i in range(b):\n",
    "    d=input(\"Enter a char/int : \")\n",
    "    y.append(d)\n",
    "print(\"The second list \")\n",
    "print(y)\n",
    "def common(x, y):\n",
    "    flag = False\n",
    "    for i in x:\n",
    "        if (i in y):\n",
    "            flag = True\n",
    "        else:\n",
    "            pass\n",
    "    return flag\n",
    "result = common(x, y)\n",
    "print('The above lists have at least one common member:',result)"
   ]
  },
  {
   "cell_type": "code",
   "execution_count": null,
   "metadata": {},
   "outputs": [],
   "source": []
  }
 ],
 "metadata": {
  "kernelspec": {
   "display_name": "Python 3",
   "language": "python",
   "name": "python3"
  },
  "language_info": {
   "codemirror_mode": {
    "name": "ipython",
    "version": 3
   },
   "file_extension": ".py",
   "mimetype": "text/x-python",
   "name": "python",
   "nbconvert_exporter": "python",
   "pygments_lexer": "ipython3",
   "version": "3.7.3"
  }
 },
 "nbformat": 4,
 "nbformat_minor": 2
}
