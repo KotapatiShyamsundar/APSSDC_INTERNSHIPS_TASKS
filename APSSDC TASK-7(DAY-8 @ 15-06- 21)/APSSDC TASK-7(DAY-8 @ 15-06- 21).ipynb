{
 "cells": [
  {
   "cell_type": "markdown",
   "metadata": {},
   "source": [
    "### Tasks\n",
    "- create a function for finding the leap years within the given range\n",
    "- Create a function for getting the armstrong numbers within the given range\n",
    "- create a function for getting the prime numbers within the range\n",
    "- Create a function for finding the count of elements in a string. \"Srm university\""
   ]
  },
  {
   "cell_type": "markdown",
   "metadata": {},
   "source": [
    "### 1.create a function for finding the leap years within the given range"
   ]
  },
  {
   "cell_type": "code",
   "execution_count": 1,
   "metadata": {},
   "outputs": [
    {
     "name": "stdout",
     "output_type": "stream",
     "text": [
      "Enter the start value 1800\n",
      "Enter the end value 2020\n",
      "The leap years between  1800 and 2020 are\n",
      "1804,1808,1812,1816,1820,1824,1828,1832,1836,1840,1844,1848,1852,1856,1860,1864,1868,1872,1876,1880,1884,1888,1892,1896,1904,1908,1912,1916,1920,1924,1928,1932,1936,1940,1944,1948,1952,1956,1960,1964,1968,1972,1976,1980,1984,1988,1992,1996,2000,2004,2008,2012,2016,2020,"
     ]
    }
   ],
   "source": [
    "def leap_year(start,end):\n",
    "    print(\"The leap years between \",start,\"and\",end,\"are\")\n",
    "    for year in range (start,end+1):\n",
    "        if (year % 4 ==0 and year % 100 != 0) or (year % 400 ==0):\n",
    "            print(year,end=\",\")\n",
    "start= int(input(\"Enter the start value \"))\n",
    "end=int(input(\"Enter the end value \"))\n",
    "leap_year(start,end)\n"
   ]
  },
  {
   "cell_type": "markdown",
   "metadata": {},
   "source": [
    "### 2.Create a function for getting the armstrong numbers within the given range"
   ]
  },
  {
   "cell_type": "code",
   "execution_count": 2,
   "metadata": {},
   "outputs": [
    {
     "name": "stdout",
     "output_type": "stream",
     "text": [
      "Enter the start value 1\n",
      "Enter the end value 160\n",
      "Armstrong numbers between  1 , 160 are\n",
      "1,64,125,153,"
     ]
    }
   ],
   "source": [
    "def armstrong():\n",
    "    a = int(input(\"Enter the start value \"))  \n",
    "    b = int(input(\"Enter the end value \")) \n",
    "    print(\"Armstrong numbers between \",a,\",\",b,\"are\")\n",
    "    for i in range(a,b):\n",
    "        sum=0\n",
    "        t=i\n",
    "        while t>0:\n",
    "            digit=t%10\n",
    "            sum=sum+digit**3\n",
    "            t=t//10\n",
    "            if i==sum:\n",
    "                print(i,end=\",\")\n",
    "armstrong()"
   ]
  },
  {
   "cell_type": "markdown",
   "metadata": {},
   "source": [
    "### 3. create a function for getting the prime numbers within the range"
   ]
  },
  {
   "cell_type": "code",
   "execution_count": 3,
   "metadata": {},
   "outputs": [
    {
     "name": "stdout",
     "output_type": "stream",
     "text": [
      "Enter lower range: 2\n",
      "Enter upper range: 25\n",
      "2,3,5,7,11,13,17,19,23,"
     ]
    }
   ],
   "source": [
    "def prime(start,end):\n",
    "    start = int(input(\"Enter lower range: \"))  \n",
    "    end = int(input(\"Enter upper range: \"))  \n",
    "    for num in range(start,end + 1):\n",
    "        if num > 1:\n",
    "            for i in range(2,num):\n",
    "                if (num % i) == 0:\n",
    "                    break\n",
    "            else:\n",
    "                print(num,end=\",\") \n",
    "prime(start,end)"
   ]
  },
  {
   "cell_type": "markdown",
   "metadata": {},
   "source": [
    "### 4. Create a function for finding the count of elements in a string. \"Srm university\""
   ]
  },
  {
   "cell_type": "code",
   "execution_count": 4,
   "metadata": {},
   "outputs": [
    {
     "name": "stdout",
     "output_type": "stream",
     "text": [
      "Enter the string Srm university\n"
     ]
    },
    {
     "data": {
      "text/plain": [
       "{'s': 2,\n",
       " 'r': 2,\n",
       " 'm': 1,\n",
       " ' ': 1,\n",
       " 'u': 1,\n",
       " 'n': 1,\n",
       " 'i': 2,\n",
       " 'v': 1,\n",
       " 'e': 1,\n",
       " 't': 1,\n",
       " 'y': 1}"
      ]
     },
     "execution_count": 4,
     "metadata": {},
     "output_type": "execute_result"
    }
   ],
   "source": [
    "def count():\n",
    "    a=input(\"Enter the string \")\n",
    "    c=a.lower()\n",
    "    b={}\n",
    "    for i in c:\n",
    "        if i in b:\n",
    "            b[i]=b[i]+1\n",
    "        else:\n",
    "            b[i]=1\n",
    "    return b           \n",
    "count()"
   ]
  }
 ],
 "metadata": {
  "kernelspec": {
   "display_name": "Python 3",
   "language": "python",
   "name": "python3"
  },
  "language_info": {
   "codemirror_mode": {
    "name": "ipython",
    "version": 3
   },
   "file_extension": ".py",
   "mimetype": "text/x-python",
   "name": "python",
   "nbconvert_exporter": "python",
   "pygments_lexer": "ipython3",
   "version": "3.7.3"
  }
 },
 "nbformat": 4,
 "nbformat_minor": 2
}
