{
 "cells": [
  {
   "cell_type": "markdown",
   "metadata": {},
   "source": [
    "## APSSDC TASK-3 DAY-4 10-06-21\n",
    "### TASK-1\n",
    "- take input from the user \n",
    "- check whether length of string is even or odd\n",
    "- if string length is odd acess one middle char\n",
    "- if that string is even access 2 elemts"
   ]
  },
  {
   "cell_type": "markdown",
   "metadata": {},
   "source": [
    "### Method-1"
   ]
  },
  {
   "cell_type": "code",
   "execution_count": 12,
   "metadata": {},
   "outputs": [
    {
     "name": "stdout",
     "output_type": "stream",
     "text": [
      "Enter the string shyamsundark\n",
      "Lenth of string  12\n",
      "The string is even length\n",
      "The two middle vales are  su\n"
     ]
    }
   ],
   "source": [
    "s1 = input(\"Enter the string \")\n",
    "print(\"Lenth of string \",len(s1))\n",
    "if len(s1)%2==0:\n",
    "    print(\"The string is even length\")\n",
    "    print(\"The two middle vales are \",s1[(len(s1)-1)//2:(len(s1)+2)//2])\n",
    "else:\n",
    "    print(\"The string is odd length\")\n",
    "    print(\"The middle vale is \",s1[len(s1)//2])"
   ]
  },
  {
   "cell_type": "code",
   "execution_count": 11,
   "metadata": {},
   "outputs": [
    {
     "name": "stdout",
     "output_type": "stream",
     "text": [
      "Enter the string ShyamSundar\n",
      "Lenth of string  11\n",
      "The string is odd length\n",
      "The middle vale is  S\n"
     ]
    }
   ],
   "source": [
    "s1 = input(\"Enter the string \")\n",
    "print(\"Lenth of string \",len(s1))\n",
    "if len(s1)%2==0:\n",
    "    print(\"The string is even length\")\n",
    "    print(\"The two middle vales are \",s1[(len(s1)-1)//2:(len(s1)+2)//2])\n",
    "else:\n",
    "    print(\"The string is odd length\")\n",
    "    print(\"The middle vale is \",s1[len(s1)//2])"
   ]
  },
  {
   "cell_type": "markdown",
   "metadata": {},
   "source": [
    "### Method-2"
   ]
  },
  {
   "cell_type": "code",
   "execution_count": 17,
   "metadata": {},
   "outputs": [
    {
     "name": "stdout",
     "output_type": "stream",
     "text": [
      "Enter the string shyamsundark\n",
      "Lenth of string  12\n",
      "The string is even length\n",
      "The two middle vales are  s , u\n"
     ]
    }
   ],
   "source": [
    "n = input(\"Enter the string \")\n",
    "print(\"Lenth of string \",len(n))\n",
    "if len(n)%2==0:\n",
    "    print(\"The string is even length\")\n",
    "    print(\"The two middle vales are \",n[len(n)//2-1],\",\",n[len(n)//2])\n",
    "else:\n",
    "    print(\"The string is odd length\")\n",
    "    print(\"The middle vale is \",n[len(n)//2])"
   ]
  },
  {
   "cell_type": "code",
   "execution_count": 19,
   "metadata": {},
   "outputs": [
    {
     "name": "stdout",
     "output_type": "stream",
     "text": [
      "Enter the string shyamsundar\n",
      "Lenth of string  11\n",
      "The string is odd length\n",
      "The middle vale is  s\n"
     ]
    }
   ],
   "source": [
    "n = input(\"Enter the string \")\n",
    "print(\"Lenth of string \",len(n))\n",
    "if len(n)%2==0:\n",
    "    print(\"The string is even length\")\n",
    "    print(\"The two middle vales are \",n[len(n)//2-1],\",\",n[len(n)//2])\n",
    "else:\n",
    "    print(\"The string is odd length\")\n",
    "    print(\"The middle vale is \",n[len(n)//2])"
   ]
  }
 ],
 "metadata": {
  "kernelspec": {
   "display_name": "Python 3",
   "language": "python",
   "name": "python3"
  },
  "language_info": {
   "codemirror_mode": {
    "name": "ipython",
    "version": 3
   },
   "file_extension": ".py",
   "mimetype": "text/x-python",
   "name": "python",
   "nbconvert_exporter": "python",
   "pygments_lexer": "ipython3",
   "version": "3.7.3"
  }
 },
 "nbformat": 4,
 "nbformat_minor": 2
}
