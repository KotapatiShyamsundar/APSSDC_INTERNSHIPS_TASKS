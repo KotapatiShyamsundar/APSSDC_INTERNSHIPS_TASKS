{
 "cells": [
  {
   "cell_type": "markdown",
   "metadata": {},
   "source": [
    "### Task:\n",
    "- Generate 3-Digit OTP from 2 different Classes (Mail class and Phone Class)\n",
    "- return 6digit OTP from Baseclasses(super classes)"
   ]
  },
  {
   "cell_type": "code",
   "execution_count": 1,
   "metadata": {},
   "outputs": [],
   "source": [
    "import random \n",
    "class Mail():\n",
    "    def __init__(self):\n",
    "        self.otp1=random.randint(100,999)\n",
    "        print(\"First three digits OTP by mail \",self.otp1)\n",
    "class Phone():\n",
    "    def __init__(self):   \n",
    "        self.otp2=random.randint(100,999)\n",
    "        print(\"Second three digits OTP by phone \",self.otp2)\n",
    "class Base(Mail,Phone):\n",
    "    def __init__(self):\n",
    "        Mail.__init__(self)\n",
    "        Phone.__init__(self)\n",
    "        print(\"The 6-digit OTP number is \",str(self.otp1)+str(self.otp2))\n",
    "       "
   ]
  },
  {
   "cell_type": "code",
   "execution_count": 2,
   "metadata": {},
   "outputs": [
    {
     "name": "stdout",
     "output_type": "stream",
     "text": [
      "First three digits OTP by mail  292\n",
      "Second three digits OTP by phone  840\n",
      "The 6-digit OTP number is  292840\n"
     ]
    }
   ],
   "source": [
    "obj= Base()"
   ]
  },
  {
   "cell_type": "code",
   "execution_count": 3,
   "metadata": {},
   "outputs": [
    {
     "name": "stdout",
     "output_type": "stream",
     "text": [
      "First three digits OTP by mail  405\n",
      "Second three digits OTP by phone  547\n",
      "The 6-digit OTP number is  405547\n"
     ]
    }
   ],
   "source": [
    "import random \n",
    "class Mail():\n",
    "    def __init__(self):\n",
    "        self.otp1=random.randint(100,999)\n",
    "        print(\"First three digits OTP by mail \",self.otp1)\n",
    "class Phone():\n",
    "    def __init__(self):   \n",
    "        self.otp2=random.randint(100,999)\n",
    "        print(\"Second three digits OTP by phone \",self.otp2)\n",
    "class Base(Mail,Phone):\n",
    "    def __init__(self):\n",
    "        Mail.__init__(self)\n",
    "        Phone.__init__(self)\n",
    "        print(\"The 6-digit OTP number is \",str(self.otp1)+str(self.otp2))\n",
    "obj= Base()"
   ]
  }
 ],
 "metadata": {
  "kernelspec": {
   "display_name": "Python 3",
   "language": "python",
   "name": "python3"
  },
  "language_info": {
   "codemirror_mode": {
    "name": "ipython",
    "version": 3
   },
   "file_extension": ".py",
   "mimetype": "text/x-python",
   "name": "python",
   "nbconvert_exporter": "python",
   "pygments_lexer": "ipython3",
   "version": "3.7.3"
  }
 },
 "nbformat": 4,
 "nbformat_minor": 2
}
