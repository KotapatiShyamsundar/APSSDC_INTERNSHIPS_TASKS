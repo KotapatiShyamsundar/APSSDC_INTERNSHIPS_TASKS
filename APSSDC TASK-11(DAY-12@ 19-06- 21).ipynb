{
 "cells": [
  {
   "cell_type": "markdown",
   "metadata": {},
   "source": [
    "### TASK\n",
    "1. Take a list of years between 1800-2030.Display all the leap year which is divisible by 5"
   ]
  },
  {
   "cell_type": "code",
   "execution_count": 1,
   "metadata": {},
   "outputs": [
    {
     "name": "stdout",
     "output_type": "stream",
     "text": [
      "Enter the starting year 1800\n",
      "Enter the ending year 2030\n",
      "[1820, 1840, 1860, 1880, 1920, 1940, 1960, 1980, 2000, 2020]\n"
     ]
    }
   ],
   "source": [
    "a = int(input(\"Enter the starting year \"))\n",
    "b = int(input(\"Enter the ending year \"))\n",
    "print([yr for yr in range(a,b+1) if (yr % 4 == 0 and yr % 100 != 0 and yr%5 ==0) or (yr % 400 == 0)])"
   ]
  }
 ],
 "metadata": {
  "kernelspec": {
   "display_name": "Python 3",
   "language": "python",
   "name": "python3"
  },
  "language_info": {
   "codemirror_mode": {
    "name": "ipython",
    "version": 3
   },
   "file_extension": ".py",
   "mimetype": "text/x-python",
   "name": "python",
   "nbconvert_exporter": "python",
   "pygments_lexer": "ipython3",
   "version": "3.7.3"
  }
 },
 "nbformat": 4,
 "nbformat_minor": 2
}
