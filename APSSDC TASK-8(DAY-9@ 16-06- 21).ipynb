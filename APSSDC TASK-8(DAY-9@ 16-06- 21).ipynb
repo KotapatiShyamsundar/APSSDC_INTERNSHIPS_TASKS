{
 "cells": [
  {
   "cell_type": "markdown",
   "metadata": {},
   "source": [
    "### Tasks\n",
    "- write a program in module\n",
    "- ask the user to enter the data\n",
    "- check the data if it's camelcase print Like (Thumbsup)emoji\n",
    "- else convert the data into camelcase then speakout Successfully converted your data into camel case"
   ]
  },
  {
   "cell_type": "code",
   "execution_count": 1,
   "metadata": {},
   "outputs": [
    {
     "name": "stdout",
     "output_type": "stream",
     "text": [
      "shyam\n",
      "Shyam\n"
     ]
    }
   ],
   "source": [
    "import modules\n",
    "modules.camelcasecon()\n"
   ]
  },
  {
   "cell_type": "code",
   "execution_count": 2,
   "metadata": {},
   "outputs": [
    {
     "name": "stdout",
     "output_type": "stream",
     "text": [
      "Shyam\n",
      "👍\n"
     ]
    }
   ],
   "source": [
    "import modules\n",
    "modules.camelcasecon()\n"
   ]
  },
  {
   "cell_type": "code",
   "execution_count": null,
   "metadata": {},
   "outputs": [],
   "source": []
  }
 ],
 "metadata": {
  "kernelspec": {
   "display_name": "Python 3",
   "language": "python",
   "name": "python3"
  },
  "language_info": {
   "codemirror_mode": {
    "name": "ipython",
    "version": 3
   },
   "file_extension": ".py",
   "mimetype": "text/x-python",
   "name": "python",
   "nbconvert_exporter": "python",
   "pygments_lexer": "ipython3",
   "version": "3.7.3"
  }
 },
 "nbformat": 4,
 "nbformat_minor": 2
}
