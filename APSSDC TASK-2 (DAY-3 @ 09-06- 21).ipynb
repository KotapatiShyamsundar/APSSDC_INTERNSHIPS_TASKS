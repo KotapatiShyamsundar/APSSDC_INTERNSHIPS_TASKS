{
 "cells": [
  {
   "cell_type": "markdown",
   "metadata": {},
   "source": [
    "# APSSDC DAY-3 Tasks"
   ]
  },
  {
   "cell_type": "markdown",
   "metadata": {},
   "source": [
    "## TASK-1\n",
    "### Take last 3 values of roll no\n",
    "#### if value is starts with \"01\" ---> CSE department\n",
    "#### elif value is start with \"11\" ---> IT department\n",
    "#### elif value is starts with \"21\" ---> ECE department\n",
    "#### else the student is not belongs to SRM College\n"
   ]
  },
  {
   "cell_type": "code",
   "execution_count": 1,
   "metadata": {},
   "outputs": [
    {
     "name": "stdout",
     "output_type": "stream",
     "text": [
      "Enter your roll number AP19110010032\n",
      "Last three digits of rollno is  032\n",
      "Student does not Belongs to SRM University\n"
     ]
    }
   ],
   "source": [
    "rollnum = input(\"Enter your roll number \")\n",
    "print(\"Last three digits of rollno is \",rollnum[-3:])\n",
    "if rollnum[-3:].startswith(\"01\"):\n",
    "    print(\"Student Belongs to CSE department\")\n",
    "elif rollnum[-3:].startswith(\"11\"):\n",
    "    print(\"Student Belongs to IT department\")\n",
    "elif rollnum[-3:].startswith(\"12\"):\n",
    "    print(\"Student Belongs to ECE department\")\n",
    "else:\n",
    "    print(\"Student does not Belongs to SRM University\")"
   ]
  },
  {
   "cell_type": "code",
   "execution_count": 2,
   "metadata": {},
   "outputs": [
    {
     "name": "stdout",
     "output_type": "stream",
     "text": [
      "Enter your roll number AP19110010015\n",
      "Last three digits of rollno is  015\n",
      "Student Belongs to CSE department\n"
     ]
    }
   ],
   "source": [
    "rollnum = input(\"Enter your roll number \")\n",
    "print(\"Last three digits of rollno is \",rollnum[-3:])\n",
    "if rollnum[-3:].startswith(\"01\"):\n",
    "    print(\"Student Belongs to CSE department\")\n",
    "elif rollnum[-3:].startswith(\"11\"):\n",
    "    print(\"Student Belongs to IT department\")\n",
    "elif rollnum[-3:].startswith(\"12\"):\n",
    "    print(\"Student Belongs to ECE department\")\n",
    "else:\n",
    "    print(\"Student does not Belongs to SRM University\")"
   ]
  },
  {
   "cell_type": "code",
   "execution_count": 3,
   "metadata": {},
   "outputs": [
    {
     "name": "stdout",
     "output_type": "stream",
     "text": [
      "Enter your roll number AP19110010119\n",
      "Last three digits of rollno is  119\n",
      "Student Belongs to IT department\n"
     ]
    }
   ],
   "source": [
    "rollnum = input(\"Enter your roll number \")\n",
    "print(\"Last three digits of rollno is \",rollnum[-3:])\n",
    "if rollnum[-3:].startswith(\"01\"):\n",
    "    print(\"Student Belongs to CSE department\")\n",
    "elif rollnum[-3:].startswith(\"11\"):\n",
    "    print(\"Student Belongs to IT department\")\n",
    "elif rollnum[-3:].startswith(\"12\"):\n",
    "    print(\"Student Belongs to ECE department\")\n",
    "else:\n",
    "    print(\"Student does not Belongs to SRM University\")"
   ]
  },
  {
   "cell_type": "code",
   "execution_count": 4,
   "metadata": {},
   "outputs": [
    {
     "name": "stdout",
     "output_type": "stream",
     "text": [
      "Enter your roll number AP19110010125\n",
      "Last three digits of rollno is  125\n",
      "Student Belongs to ECE department\n"
     ]
    }
   ],
   "source": [
    "rollnum = input(\"Enter your roll number \")\n",
    "print(\"Last three digits of rollno is \",rollnum[-3:])\n",
    "if rollnum[-3:].startswith(\"01\"):\n",
    "    print(\"Student Belongs to CSE department\")\n",
    "elif rollnum[-3:].startswith(\"11\"):\n",
    "    print(\"Student Belongs to IT department\")\n",
    "elif rollnum[-3:].startswith(\"12\"):\n",
    "    print(\"Student Belongs to ECE department\")\n",
    "else:\n",
    "    print(\"Student does not Belongs to SRM University\")"
   ]
  },
  {
   "cell_type": "markdown",
   "metadata": {},
   "source": [
    "## TASK-2\n",
    "- Find all the leap years between 1800 to 2020"
   ]
  },
  {
   "cell_type": "code",
   "execution_count": 14,
   "metadata": {},
   "outputs": [
    {
     "name": "stdout",
     "output_type": "stream",
     "text": [
      "Enter the starting Year 1800\n",
      "Enter the ending Year 2020\n",
      "The leap years from 1800 to 2020 are\n",
      "1804\t1808\t1812\t1816\t1820\t1824\t1828\t1832\t1836\t1840\t1844\t1848\t1852\t1856\t1860\t1864\t1868\t1872\t1876\t1880\t1884\t1888\t1892\t1896\t1904\t1908\t1912\t1916\t1920\t1924\t1928\t1932\t1936\t1940\t1944\t1948\t1952\t1956\t1960\t1964\t1968\t1972\t1976\t1980\t1984\t1988\t1992\t1996\t2000\t2004\t2008\t2012\t2016\t2020\t"
     ]
    }
   ],
   "source": [
    "n = int(input(\"Enter the starting Year \"))\n",
    "m = int(input(\"Enter the ending Year \"))\n",
    "print(\"The leap years from\",n,\"to\",m,\"are\")\n",
    "for year in range (n,m+1):\n",
    "    if (year % 4 ==0 and year % 100 != 0) or (year % 400 ==0):\n",
    "        print(year,end =\"\\t\")"
   ]
  },
  {
   "cell_type": "code",
   "execution_count": null,
   "metadata": {},
   "outputs": [],
   "source": []
  }
 ],
 "metadata": {
  "kernelspec": {
   "display_name": "Python 3",
   "language": "python",
   "name": "python3"
  },
  "language_info": {
   "codemirror_mode": {
    "name": "ipython",
    "version": 3
   },
   "file_extension": ".py",
   "mimetype": "text/x-python",
   "name": "python",
   "nbconvert_exporter": "python",
   "pygments_lexer": "ipython3",
   "version": "3.7.3"
  }
 },
 "nbformat": 4,
 "nbformat_minor": 2
}
