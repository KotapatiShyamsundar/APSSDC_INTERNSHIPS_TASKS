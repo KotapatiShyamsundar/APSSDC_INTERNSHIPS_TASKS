{
 "cells": [
  {
   "cell_type": "markdown",
   "metadata": {},
   "source": [
    "### Conditional Statements\n",
    "##### Task:\n",
    "- Write a program to check whether the user eligible for vote or not\n",
    "- Check the given number is positive or negative\n",
    "- check the given number is even or odd if it's even check which is divisible by 4 or not\n",
    "- write a program to print student grade based on persentage like Distinction, pass or fail\n",
    "- Check the given year is Leap or not"
   ]
  },
  {
   "cell_type": "markdown",
   "metadata": {},
   "source": [
    "### 1. Write a program to check whether the user eligible for vote or not?"
   ]
  },
  {
   "cell_type": "code",
   "execution_count": 1,
   "metadata": {},
   "outputs": [
    {
     "name": "stdout",
     "output_type": "stream",
     "text": [
      "Enter the age  of a person 25\n",
      "User is eligible to vote\n"
     ]
    }
   ],
   "source": [
    "# check whether eligible for vote or not?\n",
    "n=int(input(\"Enter the age  of a person \"))\n",
    "if n >=18:\n",
    "    print(\"User is eligible to vote\")       \n",
    "else:\n",
    "    print(\"User is not eligible to vote\")\n",
    "     "
   ]
  },
  {
   "cell_type": "code",
   "execution_count": 2,
   "metadata": {},
   "outputs": [
    {
     "name": "stdout",
     "output_type": "stream",
     "text": [
      "Enter the age  of a person 16\n",
      "User is not eligible to vote\n"
     ]
    }
   ],
   "source": [
    "n=int(input(\"Enter the age  of a person \"))\n",
    "if n >=18:\n",
    "    print(\"User is eligible to vote\")       \n",
    "else:\n",
    "    print(\"User is not eligible to vote\")"
   ]
  },
  {
   "cell_type": "markdown",
   "metadata": {},
   "source": [
    "### 2. Check the given number is positive or negative"
   ]
  },
  {
   "cell_type": "code",
   "execution_count": 3,
   "metadata": {},
   "outputs": [
    {
     "name": "stdout",
     "output_type": "stream",
     "text": [
      "Enter the number 12\n",
      "Number is positive\n"
     ]
    }
   ],
   "source": [
    "#Check the given number is positive or negative\n",
    "n=int(input(\"Enter the number \"))\n",
    "if n >0:\n",
    "    print(\"Number is positive\")\n",
    "elif n == 0:\n",
    "    print(\"Number is Zero\")\n",
    "else:\n",
    "    print(\"Number is negative\")"
   ]
  },
  {
   "cell_type": "code",
   "execution_count": 4,
   "metadata": {},
   "outputs": [
    {
     "name": "stdout",
     "output_type": "stream",
     "text": [
      "Enter the number 0\n",
      "Number is Zero\n"
     ]
    }
   ],
   "source": [
    "n=int(input(\"Enter the number \"))\n",
    "if n >0:\n",
    "    print(\"Number is positive\")\n",
    "elif n == 0:\n",
    "    print(\"Number is Zero\")\n",
    "else:\n",
    "    print(\"Number is negative\")"
   ]
  },
  {
   "cell_type": "code",
   "execution_count": 5,
   "metadata": {},
   "outputs": [
    {
     "name": "stdout",
     "output_type": "stream",
     "text": [
      "Enter the number -5\n",
      "Number is negative\n"
     ]
    }
   ],
   "source": [
    "n=int(input(\"Enter the number \"))\n",
    "if n >0:\n",
    "    print(\"Number is positive\")\n",
    "elif n == 0:\n",
    "    print(\"Number is Zero\")\n",
    "else:\n",
    "    print(\"Number is negative\")"
   ]
  },
  {
   "cell_type": "markdown",
   "metadata": {},
   "source": [
    "### 3. check the given number is even or odd if it's even check which is divisible by 4 or not"
   ]
  },
  {
   "cell_type": "code",
   "execution_count": 6,
   "metadata": {},
   "outputs": [
    {
     "name": "stdout",
     "output_type": "stream",
     "text": [
      "Enter the number -6\n",
      "Number is not Positive\n"
     ]
    }
   ],
   "source": [
    "#check the given number is even or odd if it's even check which is divisible by 4 or not\n",
    "n=int(input(\"Enter the number \"))\n",
    "if n >0:\n",
    "    if n % 4 == 0:\n",
    "        print(\"Number is even and divisible by 4\")\n",
    "    else:\n",
    "        print(\"Number is even and does not divisible by 4\")\n",
    "else:\n",
    "    print(\"Number is not Positive\")"
   ]
  },
  {
   "cell_type": "code",
   "execution_count": 7,
   "metadata": {},
   "outputs": [
    {
     "name": "stdout",
     "output_type": "stream",
     "text": [
      "Enter the number 28\n",
      "Number is even and divisible by 4\n"
     ]
    }
   ],
   "source": [
    "n=int(input(\"Enter the number \"))\n",
    "if n >0:\n",
    "    if n % 4 == 0:\n",
    "        print(\"Number is even and divisible by 4\")\n",
    "    else:\n",
    "        print(\"Number is even and does not divisible by 4\")\n",
    "else:\n",
    "    print(\"Number is not Positive\")\n",
    "    "
   ]
  },
  {
   "cell_type": "code",
   "execution_count": 8,
   "metadata": {},
   "outputs": [
    {
     "name": "stdout",
     "output_type": "stream",
     "text": [
      "Enter the number 19\n",
      "Number is even and does not divisible by 4\n"
     ]
    }
   ],
   "source": [
    "n=int(input(\"Enter the number \"))\n",
    "if n >0:\n",
    "    if n % 4 == 0:\n",
    "        print(\"Number is even and divisible by 4\")\n",
    "    else:\n",
    "        print(\"Number is even and does not divisible by 4\")\n",
    "else:\n",
    "    print(\"Number is not Positive\")"
   ]
  },
  {
   "cell_type": "markdown",
   "metadata": {},
   "source": [
    "### 4. Write a program to print student grade based on persentage like Distinction, pass or fail"
   ]
  },
  {
   "cell_type": "code",
   "execution_count": 9,
   "metadata": {},
   "outputs": [
    {
     "name": "stdout",
     "output_type": "stream",
     "text": [
      "Enter the no of subjects 5\n",
      "No.of Subjects is  5\n",
      "Enter marks of a subject 10\n",
      "Enter marks of a subject 20\n",
      "Enter marks of a subject 30\n",
      "Enter marks of a subject 40\n",
      "Enter marks of a subject 50\n",
      "Sum of all subjects marks  150.0\n",
      "Percentage of all subjects  30.0 %\n",
      "Fail\n"
     ]
    }
   ],
   "source": [
    "# print student grade based on persentage like Distinction, pass or fail\n",
    "s=int(input(\"Enter the no of subjects \"))\n",
    "print(\"No.of Subjects is \",s)\n",
    "m=0\n",
    "sum=0\n",
    "for i in range(s):\n",
    "  m= float(input(\"Enter marks of a subject \")) \n",
    "  sum+=m\n",
    "print(\"Sum of all subjects marks \",sum)\n",
    "percentage = sum*100/(s*100)\n",
    "print(\"Percentage of all subjects \",percentage , \"%\")\n",
    "if percentage>90.0:\n",
    "    print(\"Distinction\")\n",
    "elif percentage>50.0:\n",
    "    print(\"Pass\")\n",
    "else:\n",
    "    print(\"Fail\")"
   ]
  },
  {
   "cell_type": "code",
   "execution_count": 10,
   "metadata": {},
   "outputs": [
    {
     "name": "stdout",
     "output_type": "stream",
     "text": [
      "Enter the no of subjects 4\n",
      "No.of Subjects is  4\n",
      "Enter marks of a subject 98\n",
      "Enter marks of a subject 96\n",
      "Enter marks of a subject 98\n",
      "Enter marks of a subject 63\n",
      "Sum of all subjects marks  355.0\n",
      "Percentage of all subjects  88.75 %\n",
      "Pass\n"
     ]
    }
   ],
   "source": [
    "s=int(input(\"Enter the no of subjects \"))\n",
    "print(\"No.of Subjects is \",s)\n",
    "m=0\n",
    "sum=0\n",
    "for i in range(s):\n",
    "  m= float(input(\"Enter marks of a subject \")) \n",
    "  sum+=m\n",
    "print(\"Sum of all subjects marks \",sum)\n",
    "percentage = sum*100/(s*100)\n",
    "print(\"Percentage of all subjects \",percentage , \"%\")\n",
    "if percentage>90.0:\n",
    "    print(\"Distinction\")\n",
    "elif percentage>50.0:\n",
    "    print(\"Pass\")\n",
    "else:\n",
    "    print(\"Fail\")"
   ]
  },
  {
   "cell_type": "code",
   "execution_count": 11,
   "metadata": {},
   "outputs": [
    {
     "name": "stdout",
     "output_type": "stream",
     "text": [
      "Enter the no of subjects 5\n",
      "No.of Subjects is  5\n",
      "Enter marks of a subject 99\n",
      "Enter marks of a subject 98\n",
      "Enter marks of a subject 99\n",
      "Enter marks of a subject 98\n",
      "Enter marks of a subject 99\n",
      "Sum of all subjects marks  493.0\n",
      "Percentage of all subjects  98.6 %\n",
      "Distinction\n"
     ]
    }
   ],
   "source": [
    "s=int(input(\"Enter the no of subjects \"))\n",
    "print(\"No.of Subjects is \",s)\n",
    "m=0\n",
    "sum=0\n",
    "for i in range(s):\n",
    "  m= float(input(\"Enter marks of a subject \")) \n",
    "  sum+=m\n",
    "print(\"Sum of all subjects marks \",sum)\n",
    "percentage = sum*100/(s*100)\n",
    "print(\"Percentage of all subjects \",percentage , \"%\")\n",
    "if percentage>90.0:\n",
    "    print(\"Distinction\")\n",
    "elif percentage>50.0:\n",
    "    print(\"Pass\")\n",
    "else:\n",
    "    print(\"Fail\")"
   ]
  },
  {
   "cell_type": "markdown",
   "metadata": {},
   "source": [
    "### 5. Check the given year is Leap or not"
   ]
  },
  {
   "cell_type": "code",
   "execution_count": 12,
   "metadata": {},
   "outputs": [
    {
     "name": "stdout",
     "output_type": "stream",
     "text": [
      "Enter the year to check!!!2016\n",
      "Given year is aleap year\n"
     ]
    }
   ],
   "source": [
    "#Check the given year is Leap or not\n",
    "year=int(input(\"Enter the year to check!!!\"))\n",
    "if (year % 4) == 0:\n",
    "   if (year % 100) == 0:\n",
    "       if (year % 400) == 0:\n",
    "           print(\"Given year is a leap year\")\n",
    "       else:\n",
    "           print(\"Not a leap year\")\n",
    "   else:\n",
    "       print(\"Given year is aleap year\")\n",
    "else:\n",
    "   print(\"Not a leap year\")\n"
   ]
  },
  {
   "cell_type": "code",
   "execution_count": 13,
   "metadata": {},
   "outputs": [
    {
     "name": "stdout",
     "output_type": "stream",
     "text": [
      "Enter the year to check!!!2011\n",
      "Not a leap year\n"
     ]
    }
   ],
   "source": [
    "year=int(input(\"Enter the year to check!!!\"))\n",
    "if (year % 4) == 0:\n",
    "   if (year % 100) == 0:\n",
    "       if (year % 400) == 0:\n",
    "           print(\"Given year is a leap year\")\n",
    "       else:\n",
    "           print(\"Not a leap year\")\n",
    "   else:\n",
    "       print(\"Given year is aleap year\")\n",
    "else:\n",
    "   print(\"Not a leap year\")\n"
   ]
  },
  {
   "cell_type": "code",
   "execution_count": 14,
   "metadata": {},
   "outputs": [
    {
     "name": "stdout",
     "output_type": "stream",
     "text": [
      "Enter the year to check!!!2018\n",
      "Not a leap year\n"
     ]
    }
   ],
   "source": [
    "year=int(input(\"Enter the year to check!!!\"))\n",
    "if (year % 4) == 0:\n",
    "   if (year % 100) == 0:\n",
    "       if (year % 400) == 0:\n",
    "           print(\"Given year is a leap year\")\n",
    "       else:\n",
    "           print(\"Not a leap year\")\n",
    "   else:\n",
    "       print(\"Given year is aleap year\")\n",
    "else:\n",
    "   print(\"Not a leap year\")\n"
   ]
  }
 ],
 "metadata": {
  "kernelspec": {
   "display_name": "Python 3",
   "language": "python",
   "name": "python3"
  },
  "language_info": {
   "codemirror_mode": {
    "name": "ipython",
    "version": 3
   },
   "file_extension": ".py",
   "mimetype": "text/x-python",
   "name": "python",
   "nbconvert_exporter": "python",
   "pygments_lexer": "ipython3",
   "version": "3.7.3"
  }
 },
 "nbformat": 4,
 "nbformat_minor": 2
}
