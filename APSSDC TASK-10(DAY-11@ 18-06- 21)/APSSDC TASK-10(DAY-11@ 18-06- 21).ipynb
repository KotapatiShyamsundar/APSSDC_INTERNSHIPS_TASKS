{
 "cells": [
  {
   "cell_type": "markdown",
   "metadata": {},
   "source": [
    "### Tasks:\n",
    "- Write a program for getting the last five lines from the file\n",
    "- Create a function for appending the data into the file\n",
    "- Create a program for updating a word in the file"
   ]
  },
  {
   "cell_type": "markdown",
   "metadata": {},
   "source": [
    "### 1. Write a program for getting the last five lines from the file"
   ]
  },
  {
   "cell_type": "code",
   "execution_count": 1,
   "metadata": {},
   "outputs": [],
   "source": [
    "f= open(\"Task10.txt\",\"w\")\n",
    "f3 = f.write(\"First line \\n\")\n",
    "f.close()"
   ]
  },
  {
   "cell_type": "code",
   "execution_count": 2,
   "metadata": {},
   "outputs": [],
   "source": [
    "f= open(\"Task10.txt\",\"a\")\n",
    "f3 = f.write(\"second line \\n\")\n",
    "f3 = f.write(\"third line \\n\")\n",
    "f3 = f.write(\"fourth line \\n\")\n",
    "f3 = f.write(\"fifth line \\n\")\n",
    "f3 = f.write(\"sixth line \\n\")\n",
    "f3 = f.write(\"seventh line \\n\")\n",
    "f3 = f.write(\"eighth line \\n\")\n",
    "f3 = f.write(\"nineth line \\n\")\n",
    "f3 = f.write(\"tenth line \\n\")\n",
    "f.close()"
   ]
  },
  {
   "cell_type": "code",
   "execution_count": 3,
   "metadata": {},
   "outputs": [
    {
     "name": "stdout",
     "output_type": "stream",
     "text": [
      "First line \n",
      "second line \n",
      "third line \n",
      "fourth line \n",
      "fifth line \n",
      "sixth line \n",
      "seventh line \n",
      "eighth line \n",
      "nineth line \n",
      "tenth line \n",
      "\n"
     ]
    }
   ],
   "source": [
    "f= open(\"Task10.txt\",\"r\")\n",
    "f.seek(0)\n",
    "f3 =f.read()\n",
    "print(f3)\n",
    "f.close()"
   ]
  },
  {
   "cell_type": "code",
   "execution_count": 4,
   "metadata": {},
   "outputs": [
    {
     "name": "stdout",
     "output_type": "stream",
     "text": [
      "sixth line \n",
      "\n",
      "seventh line \n",
      "\n",
      "eighth line \n",
      "\n",
      "nineth line \n",
      "\n",
      "tenth line \n",
      "\n"
     ]
    }
   ],
   "source": [
    "f= open(\"Task10.txt\",\"r\")\n",
    "for i in (f.readlines()[-5:]):\n",
    "    print(i)"
   ]
  },
  {
   "cell_type": "code",
   "execution_count": 5,
   "metadata": {},
   "outputs": [],
   "source": [
    "f.close()"
   ]
  },
  {
   "cell_type": "markdown",
   "metadata": {},
   "source": [
    "### 2. Create a function for appending the data into the file"
   ]
  },
  {
   "cell_type": "code",
   "execution_count": 6,
   "metadata": {},
   "outputs": [],
   "source": [
    "def appendfile_fn(path):\n",
    "    with open(path,\"a\") as f:\n",
    "        data = f.write(\"Eleventh line \\n\")\n",
    "appendfile_fn(\"Task10.txt\")"
   ]
  },
  {
   "cell_type": "code",
   "execution_count": 7,
   "metadata": {},
   "outputs": [
    {
     "name": "stdout",
     "output_type": "stream",
     "text": [
      "First line \n",
      "second line \n",
      "third line \n",
      "fourth line \n",
      "fifth line \n",
      "sixth line \n",
      "seventh line \n",
      "eighth line \n",
      "nineth line \n",
      "tenth line \n",
      "Eleventh line \n",
      "\n"
     ]
    }
   ],
   "source": [
    "f= open(\"Task10.txt\",\"r\")\n",
    "f.seek(0)\n",
    "f3 =f.read()\n",
    "print(f3)\n"
   ]
  },
  {
   "cell_type": "code",
   "execution_count": 8,
   "metadata": {},
   "outputs": [],
   "source": [
    "f.close()"
   ]
  },
  {
   "cell_type": "code",
   "execution_count": 9,
   "metadata": {},
   "outputs": [],
   "source": [
    "def appendfile_fn(data):\n",
    "    with open(\"Task10.txt\",\"a\") as f:\n",
    "        data = f.write(\"Twelveth line \\n\")\n",
    "appendfile_fn(\"Task10.txt\")"
   ]
  },
  {
   "cell_type": "code",
   "execution_count": 10,
   "metadata": {},
   "outputs": [
    {
     "name": "stdout",
     "output_type": "stream",
     "text": [
      "First line \n",
      "second line \n",
      "third line \n",
      "fourth line \n",
      "fifth line \n",
      "sixth line \n",
      "seventh line \n",
      "eighth line \n",
      "nineth line \n",
      "tenth line \n",
      "Eleventh line \n",
      "Twelveth line \n",
      "\n"
     ]
    }
   ],
   "source": [
    "f= open(\"Task10.txt\",\"r\")\n",
    "f.seek(0)\n",
    "f3 =f.read()\n",
    "print(f3)"
   ]
  },
  {
   "cell_type": "code",
   "execution_count": 11,
   "metadata": {},
   "outputs": [],
   "source": [
    "f.close()"
   ]
  },
  {
   "cell_type": "markdown",
   "metadata": {},
   "source": [
    "### 3.Create a program for updating a word in the file"
   ]
  },
  {
   "cell_type": "code",
   "execution_count": 54,
   "metadata": {},
   "outputs": [],
   "source": [
    "f = open(\"Task10_2.txt\",\"w\")\n",
    "f1 = f.write(\"Hii,..Helloo \\n\")\n",
    "f.close()"
   ]
  },
  {
   "cell_type": "code",
   "execution_count": 55,
   "metadata": {},
   "outputs": [],
   "source": [
    "f = open(\"Task10_2.txt\",\"a\")\n",
    "f1 = f.write(\"Good,..Afternoon \\n\")\n",
    "f.close()"
   ]
  },
  {
   "cell_type": "code",
   "execution_count": 56,
   "metadata": {},
   "outputs": [
    {
     "name": "stdout",
     "output_type": "stream",
     "text": [
      "Hii,..Helloo \n",
      "Good,..Afternoon \n",
      "\n"
     ]
    }
   ],
   "source": [
    "f = open(\"Task10_2.txt\",\"r\")\n",
    "print(f.read())"
   ]
  },
  {
   "cell_type": "code",
   "execution_count": 57,
   "metadata": {},
   "outputs": [],
   "source": [
    "f.close()"
   ]
  },
  {
   "cell_type": "code",
   "execution_count": 58,
   "metadata": {},
   "outputs": [
    {
     "name": "stdout",
     "output_type": "stream",
     "text": [
      "Hii,..Helloo \n",
      "Good,..Evening \n",
      "\n"
     ]
    }
   ],
   "source": [
    "import re\n",
    "with open( 'Task10_2.txt',\"r+\") as f:\n",
    "          text = f.read( )\n",
    "          text = re.sub( \"Afternoon\", \"Evening\", text)\n",
    "          f.seek(0)\n",
    "          f.write(text)\n",
    "          f.truncate( )\n",
    "f = open(\"Task10_2.txt\")\n",
    "print (f.read( ))"
   ]
  },
  {
   "cell_type": "code",
   "execution_count": 59,
   "metadata": {},
   "outputs": [],
   "source": [
    "f.close()"
   ]
  },
  {
   "cell_type": "code",
   "execution_count": null,
   "metadata": {},
   "outputs": [],
   "source": []
  }
 ],
 "metadata": {
  "kernelspec": {
   "display_name": "Python 3",
   "language": "python",
   "name": "python3"
  },
  "language_info": {
   "codemirror_mode": {
    "name": "ipython",
    "version": 3
   },
   "file_extension": ".py",
   "mimetype": "text/x-python",
   "name": "python",
   "nbconvert_exporter": "python",
   "pygments_lexer": "ipython3",
   "version": "3.7.3"
  }
 },
 "nbformat": 4,
 "nbformat_minor": 2
}
